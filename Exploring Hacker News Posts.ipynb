{
 "cells": [
  {
   "cell_type": "markdown",
   "metadata": {},
   "source": [
    "# Guided Project : Exploring Hacker News Posts\n",
    "\n",
    "Hacker News posts is a site where user submitted posts are voted or commented. [Hacker News](https://news.ycombinator.com/) is extremely popular in technology and with start ups and posts that are in the top of the list will recieve thousands of visitors as a result.\n",
    "\n",
    "There is 'Ask HN'and 'Show HN' posts that we are interested for this project. User submits 'Ask HN' posts to ask the community a specific question.\n",
    "\n",
    "User submit 'Show HN' posts to show the Hacker News community a project, prodcut or share something interesting.\n",
    "\n",
    "For this project the data set from kaggle is here. [data set](https://www.kaggle.com/hacker-news/hacker-news-posts)\n",
    "For the guided project the data has been reduced from rows 300,000 to approaximately 20,000 removing the submissions without any comments recieved and then randomly sampling.\n",
    "\n",
    "It includes the following columns:\n",
    "\n",
    "* id: The unique identifier from Hacker News for the post\n",
    "* title: title of the post (self explanatory)\n",
    "* url: the url of the item being linked to\n",
    "* num_points: the number of upvotes the post received\n",
    "* num_comments: the number of comments the post received\n",
    "* author: the name of the account that made the post\n",
    "* created_at: the date and time the post was made (the time zone is Eastern Time in the US)\n",
    "\n",
    "The aim of the project is to compare the two types of posts to determine the following\n",
    "\n",
    "1. Does 'Ask HN' or 'Show HN' receives more comments on average?\n",
    "2. Does posts created at certain time receive more comments on average?"
   ]
  },
  {
   "cell_type": "code",
   "execution_count": 39,
   "metadata": {},
   "outputs": [
    {
     "name": "stdout",
     "output_type": "stream",
     "text": [
      "['id', 'title', 'url', 'num_points', 'num_comments', 'author', 'created_at']\n",
      "\n",
      "\n",
      "[['12224879', 'Interactive Dynamic Video', 'http://www.interactivedynamicvideo.com/', '386', '52', 'ne0phyte', '8/4/2016 11:52'], ['10975351', 'How to Use Open Source and Shut the Fuck Up at the Same Time', 'http://hueniverse.com/2016/01/26/how-to-use-open-source-and-shut-the-fuck-up-at-the-same-time/', '39', '10', 'josep2', '1/26/2016 19:30']]\n"
     ]
    }
   ],
   "source": [
    "from csv import reader\n",
    "opened_file = open('hacker_news.csv')\n",
    "read_file = reader(opened_file)\n",
    "hn = list(read_file)\n",
    "hn_header = hn[0]\n",
    "hn = hn[1:]\n",
    "print(hn_header)\n",
    "print('\\n')\n",
    "print(hn[0:2])"
   ]
  },
  {
   "cell_type": "code",
   "execution_count": 40,
   "metadata": {},
   "outputs": [],
   "source": [
    "#created three empty lists to store the data in the loop\n",
    "ask_posts =[]\n",
    "show_posts = []\n",
    "other_posts =[]\n",
    "\n",
    "#loop through each row to seperate the type of question asked\n",
    "for row in hn:\n",
    "    title = row[1]\n",
    "    title = title.lower() #change the capitals to lower case\n",
    "    if title.startswith('ask hn'):\n",
    "        ask_posts.append(row)\n",
    "    elif title.startswith('show hn'):\n",
    "        show_posts.append(row)\n",
    "    else:\n",
    "        other_posts.append(row)        "
   ]
  },
  {
   "cell_type": "code",
   "execution_count": 41,
   "metadata": {},
   "outputs": [
    {
     "name": "stdout",
     "output_type": "stream",
     "text": [
      "Number of posts in ask_posts : 1744\n",
      "Number of posts in show_posts : 1162\n",
      "Number of posts in other_posts : 17194\n"
     ]
    }
   ],
   "source": [
    "len_ask_posts = len(ask_posts)\n",
    "len_show_posts = len(show_posts)\n",
    "len_other_posts = len(other_posts)\n",
    "print('Number of posts in ask_posts :',len_ask_posts)\n",
    "print('Number of posts in show_posts :',len_show_posts)\n",
    "print('Number of posts in other_posts :',len_other_posts)"
   ]
  },
  {
   "cell_type": "markdown",
   "metadata": {},
   "source": [
    "## 1. Does Ask HN or Show HN receives more comments on average?"
   ]
  },
  {
   "cell_type": "code",
   "execution_count": 42,
   "metadata": {},
   "outputs": [
    {
     "name": "stdout",
     "output_type": "stream",
     "text": [
      "Average Ask HN comments :  14.038417431192661\n",
      "Average Show HN comments :  10.31669535283993\n"
     ]
    }
   ],
   "source": [
    "# Calculte the average comments for ask hn category\n",
    "total_ask_comments = 0\n",
    "num = 0\n",
    "for i in ask_posts:\n",
    "    num_comments = int(i[4])\n",
    "    total_ask_comments += num_comments\n",
    "    num +=1\n",
    "average_ask_comments = (total_ask_comments / num)\n",
    "print('Average Ask HN comments : ',average_ask_comments)\n",
    "\n",
    "# Calculte the average comments for show hn category\n",
    "total_show_comments = 0\n",
    "num_1 = 0\n",
    "for k in show_posts:\n",
    "    num_show_comments = int(k[4])\n",
    "    total_show_comments += num_show_comments\n",
    "    num_1 +=1\n",
    "average_show_comments = (total_show_comments / num_1) \n",
    "print('Average Show HN comments : ',average_show_comments)"
   ]
  },
  {
   "cell_type": "markdown",
   "metadata": {},
   "source": [
    "From the calculation above we can see that the average comments is more for 'Ask HN'. We will fous on analysing the 'Ask HN' further for the second question in the introduction.\n",
    "\n",
    "## 2. Does posts created at certain time receive more comments on average?"
   ]
  },
  {
   "cell_type": "code",
   "execution_count": 43,
   "metadata": {},
   "outputs": [],
   "source": [
    "#create new list to append the data\n",
    "result_list = [] \n",
    "#For loop to iterate and add in the created_at data and num comments to the result_list\n",
    "for row in ask_posts:\n",
    "    created_at = row[6]\n",
    "    num_comments = int(row[4])\n",
    "    new_row = [created_at,num_comments]\n",
    "    result_list.append(new_row)"
   ]
  },
  {
   "cell_type": "markdown",
   "metadata": {},
   "source": [
    "In the above code we appended the 'Ask HN' created_at data and the comments column to the result list. \n",
    "\n",
    "In the below code after importing datatime we looped over the result list and added the sum of comments for each hour in to a dictionary called 'comments_per_hour'. 'counts_by_hour' dictionary will calculate the number of loops for each hour."
   ]
  },
  {
   "cell_type": "code",
   "execution_count": 44,
   "metadata": {},
   "outputs": [
    {
     "data": {
      "text/plain": [
       "{'09': 251,\n",
       " '13': 1253,\n",
       " '10': 793,\n",
       " '14': 1416,\n",
       " '16': 1814,\n",
       " '23': 543,\n",
       " '12': 687,\n",
       " '17': 1146,\n",
       " '15': 4477,\n",
       " '21': 1745,\n",
       " '20': 1722,\n",
       " '02': 1381,\n",
       " '18': 1439,\n",
       " '03': 421,\n",
       " '05': 464,\n",
       " '19': 1188,\n",
       " '01': 683,\n",
       " '22': 479,\n",
       " '08': 492,\n",
       " '04': 337,\n",
       " '00': 447,\n",
       " '06': 397,\n",
       " '07': 267,\n",
       " '11': 641}"
      ]
     },
     "execution_count": 44,
     "metadata": {},
     "output_type": "execute_result"
    }
   ],
   "source": [
    "import datetime as dt\n",
    "\n",
    "counts_by_hour = {}\n",
    "comments_by_hour = {}\n",
    "for row in result_list:\n",
    "    date_time = row[0]\n",
    "    num_comments = row[1]\n",
    "    hour_time = dt.datetime.strptime(date_time, \"%m/%d/%Y %H:%M\")\n",
    "    \n",
    "    hour = hour_time.strftime(\"%H\")\n",
    "    if hour not in counts_by_hour:\n",
    "        counts_by_hour[hour] = 1\n",
    "        comments_by_hour[hour] = num_comments\n",
    "    else:\n",
    "        counts_by_hour[hour] +=1\n",
    "        comments_by_hour[hour] += num_comments\n",
    "        \n",
    "comments_by_hour"
   ]
  },
  {
   "cell_type": "markdown",
   "metadata": {},
   "source": [
    "### Sorting values from a list of lists\n",
    "\n",
    "We will then create an empty list as avg_by_hour and add in the average comments by hour to the list as a list of lists."
   ]
  },
  {
   "cell_type": "code",
   "execution_count": 45,
   "metadata": {},
   "outputs": [
    {
     "data": {
      "text/plain": [
       "[['09', 5.5778],\n",
       " ['13', 14.7412],\n",
       " ['10', 13.4407],\n",
       " ['14', 13.2336],\n",
       " ['16', 16.7963],\n",
       " ['23', 7.9853],\n",
       " ['12', 9.411],\n",
       " ['17', 11.46],\n",
       " ['15', 38.5948],\n",
       " ['21', 16.0092],\n",
       " ['20', 21.525],\n",
       " ['02', 23.8103],\n",
       " ['18', 13.2018],\n",
       " ['03', 7.7963],\n",
       " ['05', 10.087],\n",
       " ['19', 10.8],\n",
       " ['01', 11.3833],\n",
       " ['22', 6.7465],\n",
       " ['08', 10.25],\n",
       " ['04', 7.1702],\n",
       " ['00', 8.1273],\n",
       " ['06', 9.0227],\n",
       " ['07', 7.8529],\n",
       " ['11', 11.0517]]"
      ]
     },
     "execution_count": 45,
     "metadata": {},
     "output_type": "execute_result"
    }
   ],
   "source": [
    "avg_by_hour = []\n",
    "\n",
    "for hour in comments_by_hour:\n",
    "    avg_by_hour.append([hour, round(comments_by_hour[hour]/counts_by_hour[hour],4)])\n",
    "\n",
    "avg_by_hour"
   ]
  },
  {
   "cell_type": "markdown",
   "metadata": {},
   "source": [
    "To sort out by the average number of comments we will swap the two elements in the list and append it to the 'swap_avg_by_hour' empty list. The sort it out and print out the first 5 highest average comments in the list."
   ]
  },
  {
   "cell_type": "code",
   "execution_count": 46,
   "metadata": {},
   "outputs": [
    {
     "name": "stdout",
     "output_type": "stream",
     "text": [
      "[[5.5778, '09'], [14.7412, '13'], [13.4407, '10'], [13.2336, '14'], [16.7963, '16'], [7.9853, '23'], [9.411, '12'], [11.46, '17'], [38.5948, '15'], [16.0092, '21'], [21.525, '20'], [23.8103, '02'], [13.2018, '18'], [7.7963, '03'], [10.087, '05'], [10.8, '19'], [11.3833, '01'], [6.7465, '22'], [10.25, '08'], [7.1702, '04'], [8.1273, '00'], [9.0227, '06'], [7.8529, '07'], [11.0517, '11']]\n"
     ]
    }
   ],
   "source": [
    "swap_avg_by_hour = [] #create an empty list\n",
    "for row in avg_by_hour:\n",
    "    first_element = row[0]\n",
    "    second_element = row[1]\n",
    "    edited = [second_element,first_element]\n",
    "    swap_avg_by_hour.append(edited)\n",
    "print(swap_avg_by_hour)    "
   ]
  },
  {
   "cell_type": "code",
   "execution_count": 47,
   "metadata": {},
   "outputs": [
    {
     "name": "stdout",
     "output_type": "stream",
     "text": [
      "Top 5 Hours for Ask Posts Comments\n",
      "\n",
      "\n",
      "15:00 : 38.59 average comments per post\n",
      "02:00 : 23.81 average comments per post\n",
      "20:00 : 21.52 average comments per post\n",
      "16:00 : 16.80 average comments per post\n",
      "21:00 : 16.01 average comments per post\n"
     ]
    }
   ],
   "source": [
    "sorted_swap = sorted(swap_avg_by_hour, reverse = True)\n",
    "\n",
    "print(\"Top 5 Hours for Ask Posts Comments\")\n",
    "print('\\n')\n",
    "for avg,hour in sorted_swap[:5]:\n",
    "    message = \"{} : {:.2f} average comments per post\"\n",
    "    print(message.format(dt.datetime.strptime(hour,'%H').strftime('%H:%M'),avg))"
   ]
  },
  {
   "cell_type": "markdown",
   "metadata": {
    "collapsed": true
   },
   "source": [
    "## Conclusion\n",
    "\n",
    "After the analysis of the data set we can conclude that 'Ask HN' receives more comments on average compared to 'Show HN'. Further for 'Ask HN' posts created at 3.00PM receives the highest average comments per posts of 38.59. We can conclude that 'Ask HN' posts created between 3.00PM and 4.00PM receives more average comments compared to post created at other times."
   ]
  },
  {
   "cell_type": "code",
   "execution_count": null,
   "metadata": {},
   "outputs": [],
   "source": []
  }
 ],
 "metadata": {
  "kernelspec": {
   "display_name": "Python 3",
   "language": "python",
   "name": "python3"
  },
  "language_info": {
   "codemirror_mode": {
    "name": "ipython",
    "version": 3
   },
   "file_extension": ".py",
   "mimetype": "text/x-python",
   "name": "python",
   "nbconvert_exporter": "python",
   "pygments_lexer": "ipython3",
   "version": "3.8.2"
  }
 },
 "nbformat": 4,
 "nbformat_minor": 2
}
