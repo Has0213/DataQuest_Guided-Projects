{
 "cells": [
  {
   "cell_type": "markdown",
   "metadata": {
    "collapsed": true
   },
   "source": [
    "# Profitable app profiles for the App store and Google play markets\n",
    "\n",
    "For this guided project we are working as a data analyst for a company that builds iOS and Anroid mobile apps. Aim of this project is to analyze the data and help developers understand what type of app data are likely to attract more users.\n",
    "\n",
    "There is two data sets to analyse the iOS dataset and Anroid(google) data set. The company build apps that are only free to download and install.The revenue for the company is from the app ads. The more apps users download and install, the company will profit. As a data analyst our goal is to analyze the data to understand what type of data will attract more users to increase the revenue.\n",
    "\n",
    "You can find the google play store data set here. [data set](https://www.kaggle.com/lava18/google-play-store-apps)\n",
    "\n",
    "You can find the iOS data set from here. [data set](https://www.kaggle.com/ramamet4/app-store-apple-data-set-10k-apps)\n"
   ]
  },
  {
   "cell_type": "code",
   "execution_count": 1,
   "metadata": {},
   "outputs": [],
   "source": [
    "#Apps store data set\n",
    "from csv import reader\n",
    "opend_file = open('AppleStore.csv')\n",
    "read_file = reader(opend_file)\n",
    "apps_data = list(read_file)\n",
    "apps_data_header = apps_data[0]\n",
    "apps_data = apps_data[1:]   "
   ]
  },
  {
   "cell_type": "code",
   "execution_count": 2,
   "metadata": {},
   "outputs": [],
   "source": [
    "#google data set\n",
    "opend_file = open('googleplaystore.csv')\n",
    "read_file = reader(opend_file)\n",
    "google_data = list(read_file)\n",
    "google_data_header = google_data[0]\n",
    "google_data = google_data[1:]"
   ]
  },
  {
   "cell_type": "code",
   "execution_count": 3,
   "metadata": {},
   "outputs": [],
   "source": [
    "#funtion to explore the data with given start and end row \n",
    "def explore_data(dataset, start, end, rows_and_columns=False):\n",
    "    dataset_slice = dataset[start:end]    \n",
    "    for row in dataset_slice:\n",
    "        print(row)\n",
    "        print('\\n') # adds a new (empty) line after each row\n",
    "\n",
    "    #print the rows and columns    \n",
    "    if rows_and_columns:\n",
    "        print('Number of rows:', len(dataset))\n",
    "        print('Number of columns:', len(dataset[0]))"
   ]
  },
  {
   "cell_type": "code",
   "execution_count": 4,
   "metadata": {},
   "outputs": [
    {
     "name": "stdout",
     "output_type": "stream",
     "text": [
      "['id', 'track_name', 'size_bytes', 'currency', 'price', 'rating_count_tot', 'rating_count_ver', 'user_rating', 'user_rating_ver', 'ver', 'cont_rating', 'prime_genre', 'sup_devices.num', 'ipadSc_urls.num', 'lang.num', 'vpp_lic']\n",
      "['284882215', 'Facebook', '389879808', 'USD', '0.0', '2974676', '212', '3.5', '3.5', '95.0', '4+', 'Social Networking', '37', '1', '29', '1']\n",
      "\n",
      "\n",
      "Number of rows: 7197\n",
      "Number of columns: 16\n"
     ]
    }
   ],
   "source": [
    "print(apps_data_header)\n",
    "explore_data(apps_data, 0, 1, True)"
   ]
  },
  {
   "cell_type": "code",
   "execution_count": 5,
   "metadata": {},
   "outputs": [
    {
     "name": "stdout",
     "output_type": "stream",
     "text": [
      "['App', 'Category', 'Rating', 'Reviews', 'Size', 'Installs', 'Type', 'Price', 'Content Rating', 'Genres', 'Last Updated', 'Current Ver', 'Android Ver']\n",
      "['Photo Editor & Candy Camera & Grid & ScrapBook', 'ART_AND_DESIGN', '4.1', '159', '19M', '10,000+', 'Free', '0', 'Everyone', 'Art & Design', 'January 7, 2018', '1.0.0', '4.0.3 and up']\n",
      "\n",
      "\n",
      "Number of rows: 10841\n",
      "Number of columns: 13\n"
     ]
    }
   ],
   "source": [
    "print(google_data_header)\n",
    "explore_data(google_data,0,1,True)"
   ]
  },
  {
   "cell_type": "code",
   "execution_count": 6,
   "metadata": {},
   "outputs": [
    {
     "name": "stdout",
     "output_type": "stream",
     "text": [
      "['Star Wars™: Galaxy of Heroes', 'FAMILY', '4.5', '1461698', '67M', '10,000,000+', 'Free', '0', 'Everyone 10+', 'Role Playing', 'May 21, 2018', '0.12.334385', '4.1 and up']\n",
      "\n",
      "\n",
      "['Dungeon Keeper', 'FAMILY', '4.0', '69574', '45M', '500,000+', 'Free', '0', 'Everyone 10+', 'Strategy', 'May 24, 2018', '1.8.91', '4.1 and up']\n",
      "\n",
      "\n",
      "Number of rows: 10841\n",
      "Number of columns: 13\n"
     ]
    }
   ],
   "source": [
    "explore_data(google_data,9149, 9151, True)"
   ]
  },
  {
   "cell_type": "markdown",
   "metadata": {},
   "source": [
    "### Deleting wrong data\n",
    "\n",
    "In kaggle as per Google play data set discussion section, there is one row that is incorrect. From the discussion section the row is 10472. Let's print the row and see the error."
   ]
  },
  {
   "cell_type": "code",
   "execution_count": 7,
   "metadata": {},
   "outputs": [
    {
     "name": "stdout",
     "output_type": "stream",
     "text": [
      "['Life Made WI-Fi Touchscreen Photo Frame', '1.9', '19', '3.0M', '1,000+', 'Free', '0', 'Everyone', '', 'February 11, 2018', '1.0.19', '4.0 and up']\n",
      "\n",
      "\n",
      "['App', 'Category', 'Rating', 'Reviews', 'Size', 'Installs', 'Type', 'Price', 'Content Rating', 'Genres', 'Last Updated', 'Current Ver', 'Android Ver']\n",
      "\n",
      "\n",
      "['osmino Wi-Fi: free WiFi', 'TOOLS', '4.2', '134203', '4.1M', '10,000,000+', 'Free', '0', 'Everyone', 'Tools', 'August 7, 2018', '6.06.14', '4.4 and up']\n"
     ]
    }
   ],
   "source": [
    "print(google_data[10472]) #print the incorrect row\n",
    "print('\\n')\n",
    "print(google_data_header) #print the header\n",
    "print('\\n')\n",
    "print(google_data[10473]) #print a correct row"
   ]
  },
  {
   "cell_type": "markdown",
   "metadata": {},
   "source": [
    "From the above result it is clear that for the row 10472 the rating(3rd column) is wrong as 19. The rating can go only upto 5. For row 10472 the category column name is missing resulting wrong rating. We will delete this row in the data set."
   ]
  },
  {
   "cell_type": "code",
   "execution_count": 8,
   "metadata": {},
   "outputs": [
    {
     "name": "stdout",
     "output_type": "stream",
     "text": [
      "10841\n",
      "10840\n"
     ]
    }
   ],
   "source": [
    "print(len(google_data))\n",
    "del google_data[10472]\n",
    "print(len(google_data))"
   ]
  },
  {
   "cell_type": "markdown",
   "metadata": {},
   "source": [
    "##  Data Cleaning\n",
    "\n",
    "For the data cleaning process need to do the following.\n",
    "* Remove duplicate data\n",
    "* Detect inaccurate data and remove it.\n",
    "* Remove non- English apps\n",
    "* Remove apps that are not free\n",
    "\n",
    "For the google data will explore whether the dataset has duplicate values."
   ]
  },
  {
   "cell_type": "code",
   "execution_count": 9,
   "metadata": {},
   "outputs": [
    {
     "name": "stdout",
     "output_type": "stream",
     "text": [
      "['Instagram', 'SOCIAL', '4.5', '66577313', 'Varies with device', '1,000,000,000+', 'Free', '0', 'Teen', 'Social', 'July 31, 2018', 'Varies with device', 'Varies with device']\n",
      "['Instagram', 'SOCIAL', '4.5', '66577446', 'Varies with device', '1,000,000,000+', 'Free', '0', 'Teen', 'Social', 'July 31, 2018', 'Varies with device', 'Varies with device']\n",
      "['Instagram', 'SOCIAL', '4.5', '66577313', 'Varies with device', '1,000,000,000+', 'Free', '0', 'Teen', 'Social', 'July 31, 2018', 'Varies with device', 'Varies with device']\n",
      "['Instagram', 'SOCIAL', '4.5', '66509917', 'Varies with device', '1,000,000,000+', 'Free', '0', 'Teen', 'Social', 'July 31, 2018', 'Varies with device', 'Varies with device']\n"
     ]
    }
   ],
   "source": [
    "for app in google_data:\n",
    "    name = app[0]\n",
    "    if name == 'Instagram':\n",
    "        print(app)"
   ]
  },
  {
   "cell_type": "code",
   "execution_count": 10,
   "metadata": {},
   "outputs": [
    {
     "name": "stdout",
     "output_type": "stream",
     "text": [
      "Number of duplicate apps: 1181\n",
      "\n",
      "\n"
     ]
    }
   ],
   "source": [
    "#Find the duplicate apps\n",
    "apps_duplicated = []\n",
    "apps_unique = []\n",
    "for row in google_data:\n",
    "    name = row[0]\n",
    "    if name in apps_unique:\n",
    "        apps_duplicated.append(name)\n",
    "    else:\n",
    "        apps_unique.append(name)\n",
    "print('Number of duplicate apps:', len(apps_duplicated))\n",
    "print('\\n')\n"
   ]
  },
  {
   "cell_type": "markdown",
   "metadata": {},
   "source": [
    "* From the above code we can see that there are 1181 duplicate apps.\n",
    "* We won't remove the rows randomly for the duplicated rows. Based on the column reviews, we will keep the higheset review and the other duplicated rows will be deleted.\n",
    "\n",
    "We will create a dictionary named 'reviews_max' to store the app name and the reviews number as values.(That has highest number of reviews after looping through a for loop).\n",
    "\n",
    "Then a list named google_clean is created to only store the unique apps with the highest review score. After each iteration the name of tha app is added to the already_added list if the name is not included in the list."
   ]
  },
  {
   "cell_type": "code",
   "execution_count": 11,
   "metadata": {
    "scrolled": true
   },
   "outputs": [
    {
     "name": "stdout",
     "output_type": "stream",
     "text": [
      "9659\n"
     ]
    }
   ],
   "source": [
    "reviews_max = {}\n",
    "for app in google_data:\n",
    "    name = app[0]\n",
    "    n_reviews = (app[3])\n",
    "    if (name in reviews_max) and (reviews_max[name] < n_reviews):\n",
    "        reviews_max[name] = n_reviews\n",
    "    elif name not in reviews_max:\n",
    "        reviews_max[name] = n_reviews\n",
    "        \n",
    "print(len(reviews_max))\n",
    "google_clean = []\n",
    "already_added = []\n",
    "for app in google_data:\n",
    "    name = app[0]\n",
    "    n_reviews = (app[3])\n",
    "    if (reviews_max[name] == n_reviews) and (name not in already_added):\n",
    "        google_clean.append(app)\n",
    "        already_added.append(name)       "
   ]
  },
  {
   "cell_type": "code",
   "execution_count": 12,
   "metadata": {},
   "outputs": [
    {
     "name": "stdout",
     "output_type": "stream",
     "text": [
      "['Photo Editor & Candy Camera & Grid & ScrapBook', 'ART_AND_DESIGN', '4.1', '159', '19M', '10,000+', 'Free', '0', 'Everyone', 'Art & Design', 'January 7, 2018', '1.0.0', '4.0.3 and up']\n",
      "\n",
      "\n",
      "['U Launcher Lite – FREE Live Cool Themes, Hide Apps', 'ART_AND_DESIGN', '4.7', '87510', '8.7M', '5,000,000+', 'Free', '0', 'Everyone', 'Art & Design', 'August 1, 2018', '1.2.4', '4.0.3 and up']\n",
      "\n",
      "\n",
      "Number of rows: 9659\n",
      "Number of columns: 13\n"
     ]
    }
   ],
   "source": [
    "#Cheking the first 2 rows and number of rows and columns for the cleaned goole cleaned data      \n",
    "explore_data(google_clean,0,2,True) "
   ]
  },
  {
   "cell_type": "code",
   "execution_count": 13,
   "metadata": {},
   "outputs": [
    {
     "name": "stdout",
     "output_type": "stream",
     "text": [
      "0\n"
     ]
    }
   ],
   "source": [
    "#checking duplicate apps for iOS data\n",
    "apps_list = []\n",
    "duplicate_apps = []\n",
    "for app in apps_data:\n",
    "    id_num = app[0]\n",
    "    if id_num in apps_list:\n",
    "        duplicate_apps.append(id_num)\n",
    "    else:\n",
    "        apps_list.append(id_num)  \n",
    "\n",
    "print(len(duplicate_apps))   "
   ]
  },
  {
   "cell_type": "markdown",
   "metadata": {},
   "source": [
    "From the above code there are no duplicate values in iOS data."
   ]
  },
  {
   "cell_type": "markdown",
   "metadata": {},
   "source": [
    "### Removing the non-english apps\n",
    "\n",
    "After exploring the data set below are some of the apps created for a non-english speaking audience."
   ]
  },
  {
   "cell_type": "code",
   "execution_count": 14,
   "metadata": {},
   "outputs": [
    {
     "name": "stdout",
     "output_type": "stream",
     "text": [
      "['445375097', '爱奇艺PPS -《欢乐颂2》电视剧热播', '224617472', 'USD', '0.0', '14844', '0', '4.0', '0.0', '6.3.3', '17+', 'Entertainment', '38', '5', '3', '1']\n",
      "\n",
      "\n",
      "['1120021683', '【脱出ゲーム】絶対に最後までプレイしないで 〜謎解き＆ブロックパズル〜', '77551616', 'USD', '0.0', '0', '0', '0.0', '0.0', '1.3', '12+', 'Games', '38', '0', '1', '1']\n",
      "\n",
      "\n",
      "['لعبة تقدر تربح DZ', 'FAMILY', '4.2', '238', '6.8M', '10,000+', 'Free', '0', 'Everyone', 'Education', 'November 18, 2016', '6.0.0.0', '4.1 and up']\n"
     ]
    }
   ],
   "source": [
    "print(apps_data[813])\n",
    "print('\\n')\n",
    "print(apps_data[6731])\n",
    "print('\\n')\n",
    "print(google_clean[7941])"
   ]
  },
  {
   "cell_type": "markdown",
   "metadata": {},
   "source": [
    "All the charactors specific to english characters are encoded using ASCII standard. Each ASCII charactor in a english letter will have a number between 0 to 127.\n",
    "\n",
    "A funtion named is_english is created. Using a for loop and ord() funtion to check whether each charater is english.\n",
    "\n",
    "Some of the apps names contain emojis, so we will only remove an app if the name has more than 3 non-ascii characters and consider it as non-english app.\n",
    "Then for google data the english apps is appended to google_english list. For iOS data the english apps are appended to apple_english list."
   ]
  },
  {
   "cell_type": "code",
   "execution_count": 15,
   "metadata": {},
   "outputs": [],
   "source": [
    "def is_english(string):\n",
    "    non_ascii = 0\n",
    "    for character in string:\n",
    "        if ord(character) > 127:\n",
    "            non_ascii +=1\n",
    "            \n",
    "    if non_ascii > 3:\n",
    "        return False\n",
    "    else:\n",
    "        return True\n",
    "\n",
    "google_english = [] #for anroid data\n",
    "apple_english = []  # for iOS data\n",
    "for i in google_clean:\n",
    "    name = i[0]\n",
    "    if is_english(name):\n",
    "        google_english.append(i)\n",
    "        \n",
    "for apps in apps_data:\n",
    "    name = apps[1]\n",
    "    if is_english(name):\n",
    "        apple_english.append(apps)"
   ]
  },
  {
   "cell_type": "code",
   "execution_count": 16,
   "metadata": {},
   "outputs": [
    {
     "name": "stdout",
     "output_type": "stream",
     "text": [
      "['Photo Editor & Candy Camera & Grid & ScrapBook', 'ART_AND_DESIGN', '4.1', '159', '19M', '10,000+', 'Free', '0', 'Everyone', 'Art & Design', 'January 7, 2018', '1.0.0', '4.0.3 and up']\n",
      "\n",
      "\n",
      "['U Launcher Lite – FREE Live Cool Themes, Hide Apps', 'ART_AND_DESIGN', '4.7', '87510', '8.7M', '5,000,000+', 'Free', '0', 'Everyone', 'Art & Design', 'August 1, 2018', '1.2.4', '4.0.3 and up']\n",
      "\n",
      "\n",
      "Number of rows: 9614\n",
      "Number of columns: 13\n",
      "\n",
      "\n",
      "['284882215', 'Facebook', '389879808', 'USD', '0.0', '2974676', '212', '3.5', '3.5', '95.0', '4+', 'Social Networking', '37', '1', '29', '1']\n",
      "\n",
      "\n",
      "['389801252', 'Instagram', '113954816', 'USD', '0.0', '2161558', '1289', '4.5', '4.0', '10.23', '12+', 'Photo & Video', '37', '0', '29', '1']\n",
      "\n",
      "\n",
      "Number of rows: 6183\n",
      "Number of columns: 16\n"
     ]
    }
   ],
   "source": [
    "explore_data(google_english,0,2,True)\n",
    "print('\\n')\n",
    "explore_data(apple_english,0,2,True)"
   ]
  },
  {
   "cell_type": "code",
   "execution_count": 17,
   "metadata": {},
   "outputs": [
    {
     "name": "stdout",
     "output_type": "stream",
     "text": [
      "True\n",
      "True\n"
     ]
    }
   ],
   "source": [
    "#chek whether these considered as english apps\n",
    "print(is_english(\"Instachat 😜\"))\n",
    "print(is_english('Docs To Go™ Free Office Suite'))"
   ]
  },
  {
   "cell_type": "markdown",
   "metadata": {},
   "source": [
    "### Isolating the free apps"
   ]
  },
  {
   "cell_type": "code",
   "execution_count": 18,
   "metadata": {},
   "outputs": [],
   "source": [
    "free_google_apps = [] #list that contains free anroid apps\n",
    "free_apple_apps = []  #list that contains free iOS apps\n",
    "\n",
    "for i in google_english:\n",
    "    price = i[7]\n",
    "    if price == '0':\n",
    "        free_google_apps.append(i)\n",
    "    \n",
    "for apps in apple_english:\n",
    "    name = apps[0]\n",
    "    price = apps[4]\n",
    "    if price == '0.0':\n",
    "        free_apple_apps.append(apps)"
   ]
  },
  {
   "cell_type": "code",
   "execution_count": 19,
   "metadata": {},
   "outputs": [
    {
     "name": "stdout",
     "output_type": "stream",
     "text": [
      "['Photo Editor & Candy Camera & Grid & ScrapBook', 'ART_AND_DESIGN', '4.1', '159', '19M', '10,000+', 'Free', '0', 'Everyone', 'Art & Design', 'January 7, 2018', '1.0.0', '4.0.3 and up']\n",
      "\n",
      "\n",
      "Number of rows: 8862\n",
      "Number of columns: 13\n",
      "['284882215', 'Facebook', '389879808', 'USD', '0.0', '2974676', '212', '3.5', '3.5', '95.0', '4+', 'Social Networking', '37', '1', '29', '1']\n",
      "\n",
      "\n",
      "Number of rows: 3222\n",
      "Number of columns: 16\n"
     ]
    }
   ],
   "source": [
    "explore_data(free_google_apps, 0, 1, True)\n",
    "explore_data(free_apple_apps, 0, 1, True)"
   ]
  },
  {
   "cell_type": "markdown",
   "metadata": {},
   "source": [
    "After cleaning the data and isolating the free apps there are 8862 google_apps and 3222 apple apps.\n",
    "\n",
    "At the beginning of the project as mentioned the goal is to find the apps that has most users since the revenue is from the user app adds. \n",
    "\n",
    "The validation strategy for a app idea is as below.\n",
    "1. Build minimal Anroid version of the app and add it to the Google Play.\n",
    "2. If the app has good response then deveop it further.\n",
    "3. If the app is profitable after six months, buid an iOS version of the add and add it to the App store.\n",
    "\n",
    "To analyse we need to create a frequency table that indicates what are the most common genres in each market. We will use the column \"Genre\" in Android data and \"prime_genre\" in iOS data.\n",
    "We will use a function named display_table() to use frequency_table() function and display the data. The output of the frequency_table is a dictionary.\n",
    "\n",
    "In the display_table() function since sorting the dictionaries won't work we will change the dictionary to save as tuples and sort it in descending order."
   ]
  },
  {
   "cell_type": "code",
   "execution_count": 20,
   "metadata": {},
   "outputs": [],
   "source": [
    "def freq_table(data_set, index):\n",
    "    table = {}\n",
    "    total = 0\n",
    "    for app in data_set:\n",
    "        value = app[index]\n",
    "        total +=1\n",
    "        if value in table:\n",
    "            table[value] +=1\n",
    "        else:\n",
    "            table[value] = 1\n",
    "        \n",
    "    table_percentage = {}\n",
    "    \n",
    "    for key in table:\n",
    "        percentage = (table[key] / total)*100\n",
    "        table_percentage[key]= percentage\n",
    "    return table_percentage\n",
    "\n",
    "def display_table(data_set,index):\n",
    "    table = freq_table(data_set, index) #using the freq_table funtion \n",
    "    table_display = []\n",
    "    for key in table:\n",
    "        key_val_as_tuple = (table[key], key) #save data as tuple\n",
    "        table_display.append(key_val_as_tuple)\n",
    "        \n",
    "    table_sorted = sorted(table_display, reverse = True)\n",
    "    for entry in table_sorted:\n",
    "        print(entry[1], ':' , entry[0])"
   ]
  },
  {
   "cell_type": "code",
   "execution_count": 21,
   "metadata": {},
   "outputs": [
    {
     "name": "stdout",
     "output_type": "stream",
     "text": [
      "Games : 58.16263190564867\n",
      "Entertainment : 7.883302296710118\n",
      "Photo & Video : 4.9658597144630665\n",
      "Education : 3.662321539416512\n",
      "Social Networking : 3.2898820608317814\n",
      "Shopping : 2.60707635009311\n",
      "Utilities : 2.5139664804469275\n",
      "Sports : 2.1415270018621975\n",
      "Music : 2.0484171322160147\n",
      "Health & Fitness : 2.0173805090006205\n",
      "Productivity : 1.7380509000620732\n",
      "Lifestyle : 1.5828677839851024\n",
      "News : 1.3345747982619491\n",
      "Travel : 1.2414649286157666\n",
      "Finance : 1.1173184357541899\n",
      "Weather : 0.8690254500310366\n",
      "Food & Drink : 0.8069522036002483\n",
      "Reference : 0.5586592178770949\n",
      "Business : 0.5276225946617008\n",
      "Book : 0.4345127250155183\n",
      "Navigation : 0.186219739292365\n",
      "Medical : 0.186219739292365\n",
      "Catalogs : 0.12414649286157665\n"
     ]
    }
   ],
   "source": [
    "#For iOS data display apps by the column 'Genre' \n",
    "display_table(free_apple_apps, -5)"
   ]
  },
  {
   "cell_type": "code",
   "execution_count": 22,
   "metadata": {},
   "outputs": [
    {
     "name": "stdout",
     "output_type": "stream",
     "text": [
      "FAMILY : 18.934777702550214\n",
      "GAME : 9.693071541412774\n",
      "TOOLS : 8.451816745655607\n",
      "BUSINESS : 4.5926427443015125\n",
      "LIFESTYLE : 3.9043105393816293\n",
      "PRODUCTIVITY : 3.8930264048747465\n",
      "FINANCE : 3.7011961182577298\n",
      "MEDICAL : 3.5206499661475967\n",
      "SPORTS : 3.39652448657188\n",
      "PERSONALIZATION : 3.3175355450236967\n",
      "COMMUNICATION : 3.238546603475513\n",
      "HEALTH_AND_FITNESS : 3.080568720379147\n",
      "PHOTOGRAPHY : 2.945159106296547\n",
      "NEWS_AND_MAGAZINES : 2.798465357707064\n",
      "SOCIAL : 2.663055743624464\n",
      "TRAVEL_AND_LOCAL : 2.335815842924848\n",
      "SHOPPING : 2.2455427668697814\n",
      "BOOKS_AND_REFERENCE : 2.143985556307831\n",
      "DATING : 1.8618821936357481\n",
      "VIDEO_PLAYERS : 1.7941773865944481\n",
      "MAPS_AND_NAVIGATION : 1.399232678853532\n",
      "FOOD_AND_DRINK : 1.2412547957571656\n",
      "EDUCATION : 1.1735499887158656\n",
      "ENTERTAINMENT : 0.9591514330850823\n",
      "LIBRARIES_AND_DEMO : 0.9365831640713158\n",
      "AUTO_AND_VEHICLES : 0.9252990295644324\n",
      "HOUSE_AND_HOME : 0.8237418190024826\n",
      "WEATHER : 0.8011735499887158\n",
      "EVENTS : 0.7109004739336493\n",
      "PARENTING : 0.6544798013992327\n",
      "ART_AND_DESIGN : 0.6431956668923494\n",
      "COMICS : 0.6206273978785828\n",
      "BEAUTY : 0.598059128864816\n"
     ]
    }
   ],
   "source": [
    "#For Anroid data display the apps by the column 'Category' \n",
    "display_table(free_google_apps, 1)"
   ]
  },
  {
   "cell_type": "markdown",
   "metadata": {},
   "source": [
    "From the above analysis we can see that for apple data the highest percentage is from 'Games', 58.16% with percentage more than 50%. Second and thrid highest is 'Entertainment' and 'Photo and Video'. From the results it is clear that there is high number of apps for fun stuff. \n",
    "\n",
    "From the anroid data the highest is from 'Family', 18.93%. Second highest is 'Game' with 9.69%. Then from 'Tools' and 'Bussiness'. From the results it is also clear that most of the highest percentage apps are from 'Life style' and 'productivity' apps.\n",
    "\n",
    "For Anroid data even though the 'Family' category is the highest, from further analysis we can see that there is moslty games and fun apps included for childresn under family category."
   ]
  },
  {
   "cell_type": "code",
   "execution_count": 23,
   "metadata": {},
   "outputs": [
    {
     "name": "stdout",
     "output_type": "stream",
     "text": [
      "Tools : 8.440532611148726\n",
      "Entertainment : 6.070864364703228\n",
      "Education : 5.348679756262695\n",
      "Business : 4.5926427443015125\n",
      "Productivity : 3.8930264048747465\n",
      "Lifestyle : 3.8930264048747465\n",
      "Finance : 3.7011961182577298\n",
      "Medical : 3.5206499661475967\n",
      "Sports : 3.4642292936131795\n",
      "Personalization : 3.3175355450236967\n",
      "Communication : 3.238546603475513\n",
      "Action : 3.1031369893929135\n",
      "Health & Fitness : 3.080568720379147\n",
      "Photography : 2.945159106296547\n",
      "News & Magazines : 2.798465357707064\n",
      "Social : 2.663055743624464\n",
      "Travel & Local : 2.324531708417964\n",
      "Shopping : 2.2455427668697814\n",
      "Books & Reference : 2.143985556307831\n",
      "Simulation : 2.0424283457458814\n",
      "Dating : 1.8618821936357481\n",
      "Arcade : 1.8505980591288649\n",
      "Video Players & Editors : 1.7716091175806816\n",
      "Casual : 1.7490408485669149\n",
      "Maps & Navigation : 1.399232678853532\n",
      "Food & Drink : 1.2412547957571656\n",
      "Puzzle : 1.128413450688332\n",
      "Racing : 0.9930038366057323\n",
      "Role Playing : 0.9365831640713158\n",
      "Libraries & Demo : 0.9365831640713158\n",
      "Auto & Vehicles : 0.9252990295644324\n",
      "Strategy : 0.9140148950575491\n",
      "House & Home : 0.8237418190024826\n",
      "Weather : 0.8011735499887158\n",
      "Events : 0.7109004739336493\n",
      "Adventure : 0.6770480704129994\n",
      "Comics : 0.6093432633716994\n",
      "Beauty : 0.598059128864816\n",
      "Art & Design : 0.598059128864816\n",
      "Parenting : 0.49650191830286616\n",
      "Card : 0.4400812457684496\n",
      "Casino : 0.4287971112615662\n",
      "Trivia : 0.41751297675468296\n",
      "Educational;Education : 0.3949447077409162\n",
      "Educational : 0.3723764387271496\n",
      "Board : 0.3723764387271496\n",
      "Education;Education : 0.3385240352064997\n",
      "Word : 0.2595350936583164\n",
      "Casual;Pretend Play : 0.23696682464454977\n",
      "Music : 0.2031144211238998\n",
      "Puzzle;Brain Games : 0.18054615211013314\n",
      "Racing;Action & Adventure : 0.16926201760324985\n",
      "Entertainment;Music & Video : 0.16926201760324985\n",
      "Casual;Brain Games : 0.13540961408259986\n",
      "Casual;Action & Adventure : 0.13540961408259986\n",
      "Arcade;Action & Adventure : 0.12412547957571654\n",
      "Action;Action & Adventure : 0.1015572105619499\n",
      "Educational;Pretend Play : 0.09027307605506657\n",
      "Board;Brain Games : 0.09027307605506657\n",
      "Simulation;Action & Adventure : 0.07898894154818326\n",
      "Parenting;Education : 0.07898894154818326\n",
      "Entertainment;Brain Games : 0.07898894154818326\n",
      "Parenting;Music & Video : 0.06770480704129993\n",
      "Educational;Brain Games : 0.06770480704129993\n",
      "Casual;Creativity : 0.06770480704129993\n",
      "Art & Design;Creativity : 0.06770480704129993\n",
      "Education;Pretend Play : 0.056420672534416606\n",
      "Role Playing;Pretend Play : 0.045136538027533285\n",
      "Education;Creativity : 0.045136538027533285\n",
      "Role Playing;Action & Adventure : 0.033852403520649964\n",
      "Puzzle;Action & Adventure : 0.033852403520649964\n",
      "Entertainment;Creativity : 0.033852403520649964\n",
      "Entertainment;Action & Adventure : 0.033852403520649964\n",
      "Educational;Creativity : 0.033852403520649964\n",
      "Educational;Action & Adventure : 0.033852403520649964\n",
      "Education;Music & Video : 0.033852403520649964\n",
      "Education;Brain Games : 0.033852403520649964\n",
      "Education;Action & Adventure : 0.033852403520649964\n",
      "Adventure;Action & Adventure : 0.033852403520649964\n",
      "Video Players & Editors;Music & Video : 0.022568269013766643\n",
      "Sports;Action & Adventure : 0.022568269013766643\n",
      "Simulation;Pretend Play : 0.022568269013766643\n",
      "Puzzle;Creativity : 0.022568269013766643\n",
      "Music;Music & Video : 0.022568269013766643\n",
      "Entertainment;Pretend Play : 0.022568269013766643\n",
      "Casual;Education : 0.022568269013766643\n",
      "Board;Action & Adventure : 0.022568269013766643\n",
      "Video Players & Editors;Creativity : 0.011284134506883321\n",
      "Trivia;Education : 0.011284134506883321\n",
      "Travel & Local;Action & Adventure : 0.011284134506883321\n",
      "Tools;Education : 0.011284134506883321\n",
      "Strategy;Education : 0.011284134506883321\n",
      "Strategy;Creativity : 0.011284134506883321\n",
      "Strategy;Action & Adventure : 0.011284134506883321\n",
      "Simulation;Education : 0.011284134506883321\n",
      "Role Playing;Brain Games : 0.011284134506883321\n",
      "Racing;Pretend Play : 0.011284134506883321\n",
      "Puzzle;Education : 0.011284134506883321\n",
      "Parenting;Brain Games : 0.011284134506883321\n",
      "Music & Audio;Music & Video : 0.011284134506883321\n",
      "Lifestyle;Pretend Play : 0.011284134506883321\n",
      "Lifestyle;Education : 0.011284134506883321\n",
      "Health & Fitness;Education : 0.011284134506883321\n",
      "Health & Fitness;Action & Adventure : 0.011284134506883321\n",
      "Entertainment;Education : 0.011284134506883321\n",
      "Communication;Creativity : 0.011284134506883321\n",
      "Comics;Creativity : 0.011284134506883321\n",
      "Casual;Music & Video : 0.011284134506883321\n",
      "Card;Brain Games : 0.011284134506883321\n",
      "Card;Action & Adventure : 0.011284134506883321\n",
      "Books & Reference;Education : 0.011284134506883321\n",
      "Art & Design;Pretend Play : 0.011284134506883321\n",
      "Art & Design;Action & Adventure : 0.011284134506883321\n",
      "Arcade;Pretend Play : 0.011284134506883321\n",
      "Adventure;Education : 0.011284134506883321\n"
     ]
    }
   ],
   "source": [
    "#For Anroid data display the apps by the column 'Genre' \n",
    "display_table(free_google_apps, -4)"
   ]
  },
  {
   "cell_type": "markdown",
   "metadata": {},
   "source": [
    "### To Find the most popular apps by Genre\n",
    "\n",
    "For the next part of the project we will find the popularity (most number of users) apps. To find the numer of users per apps, for google data the column \"Installs\" can be used. For iOS data there is no specific column with this inormation however the column \"rating_count_tot\" contains information on total number of user ratings. We will use this column in iOS data to find the average ratings.\n",
    "\n",
    "Using the freq_table function created earlier we will get the app data with the percentage dictionary. \n",
    "\n",
    "* To calculate the average number of installs for each app genres Then we will loop over a for loop for each app data.\n",
    "* Sum up the user rating or installs for the apps of that genre.\n",
    "* Divide the sum by the number of apps belonging to that genre."
   ]
  },
  {
   "cell_type": "markdown",
   "metadata": {},
   "source": [
    "### Most popular app for iOS data"
   ]
  },
  {
   "cell_type": "code",
   "execution_count": 24,
   "metadata": {},
   "outputs": [
    {
     "name": "stdout",
     "output_type": "stream",
     "text": [
      "Social Networking : 71548.34905660378\n",
      "Photo & Video : 28441.54375\n",
      "Games : 22788.6696905016\n",
      "Music : 57326.530303030304\n",
      "Reference : 74942.11111111111\n",
      "Health & Fitness : 23298.015384615384\n",
      "Weather : 52279.892857142855\n",
      "Utilities : 18684.456790123455\n",
      "Travel : 28243.8\n",
      "Shopping : 26919.690476190477\n",
      "News : 21248.023255813954\n",
      "Navigation : 86090.33333333333\n",
      "Lifestyle : 16485.764705882353\n",
      "Entertainment : 14029.830708661417\n",
      "Food & Drink : 33333.92307692308\n",
      "Sports : 23008.898550724636\n",
      "Book : 39758.5\n",
      "Finance : 31467.944444444445\n",
      "Education : 7003.983050847458\n",
      "Productivity : 21028.410714285714\n",
      "Business : 7491.117647058823\n",
      "Catalogs : 4004.0\n",
      "Medical : 612.0\n"
     ]
    }
   ],
   "source": [
    "#use the freq_table we created earlier and assign to genres_ios\n",
    "genres_ios = freq_table(free_apple_apps, -5)\n",
    "\n",
    "#iterate over the key and values in dictionary using for loop\n",
    "for genre in genres_ios:\n",
    "    len_genre = 0\n",
    "    total = 0\n",
    "    for i in free_apple_apps:\n",
    "        genre_app = i[-5]\n",
    "        if genre_app == genre:\n",
    "            n_rating = float(i[5])\n",
    "            total += n_rating\n",
    "            len_genre +=1\n",
    "     \n",
    "    average_nrating = total / len_genre \n",
    "    print(genre , ':' , average_nrating)"
   ]
  },
  {
   "cell_type": "markdown",
   "metadata": {},
   "source": [
    "On average the highest is from Navigation with 86090. This can be with the google maps installed by lot of users."
   ]
  },
  {
   "cell_type": "code",
   "execution_count": 25,
   "metadata": {},
   "outputs": [
    {
     "name": "stdout",
     "output_type": "stream",
     "text": [
      "Waze - GPS Navigation, Maps & Real-time Traffic : 345046\n",
      "Google Maps - Navigation & Transit : 154911\n",
      "Geocaching® : 12811\n",
      "CoPilot GPS – Car Navigation & Offline Maps : 3582\n",
      "ImmobilienScout24: Real Estate Search in Germany : 187\n",
      "Railway Route Search : 5\n"
     ]
    }
   ],
   "source": [
    "for app in free_apple_apps:\n",
    "    if app[-5] == \"Navigation\":\n",
    "        print(app[1],\":\",app[5])"
   ]
  },
  {
   "cell_type": "code",
   "execution_count": 26,
   "metadata": {},
   "outputs": [
    {
     "name": "stdout",
     "output_type": "stream",
     "text": [
      "Bible : 985920\n",
      "Dictionary.com Dictionary & Thesaurus : 200047\n",
      "Dictionary.com Dictionary & Thesaurus for iPad : 54175\n",
      "Google Translate : 26786\n",
      "Muslim Pro: Ramadan 2017 Prayer Times, Azan, Quran : 18418\n",
      "New Furniture Mods - Pocket Wiki & Game Tools for Minecraft PC Edition : 17588\n",
      "Merriam-Webster Dictionary : 16849\n",
      "Night Sky : 12122\n",
      "City Maps for Minecraft PE - The Best Maps for Minecraft Pocket Edition (MCPE) : 8535\n",
      "LUCKY BLOCK MOD ™ for Minecraft PC Edition - The Best Pocket Wiki & Mods Installer Tools : 4693\n",
      "GUNS MODS for Minecraft PC Edition - Mods Tools : 1497\n",
      "Guides for Pokémon GO - Pokemon GO News and Cheats : 826\n",
      "WWDC : 762\n",
      "Horror Maps for Minecraft PE - Download The Scariest Maps for Minecraft Pocket Edition (MCPE) Free : 718\n",
      "VPN Express : 14\n",
      "Real Bike Traffic Rider Virtual Reality Glasses : 8\n",
      "教えて!goo : 0\n",
      "Jishokun-Japanese English Dictionary & Translator : 0\n"
     ]
    }
   ],
   "source": [
    "for app in free_apple_apps:\n",
    "    if app[-5] == \"Reference\":\n",
    "        print(app[1],\":\",app[5])"
   ]
  },
  {
   "cell_type": "markdown",
   "metadata": {},
   "source": [
    "* For iOS data from the analysis the highest number of users are from the 'Navigation' genre. It shows that users installing apps such as google maps, Waze, GPS maps has increaed the counts.\n",
    "\n",
    "* The second highest is 'Reference'.For the 'Reference' as shown above lot of it come from users installng the Bible, dictionary and Quran and thesaurus.\n",
    "\n",
    "* Third highest users are from genre 'Social networking'. For Social Networking genre it can be similar as above analysis that users installing popular apps such as Facebook, Instagram, viber has increase the installed app count. \n",
    "\n",
    "The user count seems to skew because of some of the very popular apps such as Facebook, Instagram, Google maps. We can eliminate these apps and see how other apps will have a impact on the user counts. However for iOS data focusing on the second highest 'Reference' genre we can promote apps with content of online books, quotation with thesaurus added."
   ]
  },
  {
   "cell_type": "markdown",
   "metadata": {},
   "source": [
    "### Most popular app for Anroid data"
   ]
  },
  {
   "cell_type": "code",
   "execution_count": 27,
   "metadata": {
    "scrolled": true
   },
   "outputs": [
    {
     "name": "stdout",
     "output_type": "stream",
     "text": [
      "ART_AND_DESIGN : 1986335.0877192982\n",
      "AUTO_AND_VEHICLES : 647317.8170731707\n",
      "BEAUTY : 513151.88679245283\n",
      "BOOKS_AND_REFERENCE : 8767811.894736841\n",
      "BUSINESS : 1712290.1474201474\n",
      "COMICS : 817657.2727272727\n",
      "COMMUNICATION : 38456119.167247385\n",
      "DATING : 854028.8303030303\n",
      "EDUCATION : 1820673.076923077\n",
      "ENTERTAINMENT : 11640705.88235294\n",
      "EVENTS : 253542.22222222222\n",
      "FINANCE : 1387692.475609756\n",
      "FOOD_AND_DRINK : 1924897.7363636363\n",
      "HEALTH_AND_FITNESS : 4188821.9853479853\n",
      "HOUSE_AND_HOME : 1331540.5616438356\n",
      "LIBRARIES_AND_DEMO : 638503.734939759\n",
      "LIFESTYLE : 1437816.2687861272\n",
      "GAME : 15560965.599534342\n",
      "FAMILY : 3694276.334922527\n",
      "MEDICAL : 120616.48717948717\n",
      "SOCIAL : 23253652.127118643\n",
      "SHOPPING : 7036877.311557789\n",
      "PHOTOGRAPHY : 17805627.643678162\n",
      "SPORTS : 3638640.1428571427\n",
      "TRAVEL_AND_LOCAL : 13984077.710144928\n",
      "TOOLS : 10682301.033377837\n",
      "PERSONALIZATION : 5201482.6122448975\n",
      "PRODUCTIVITY : 16787331.344927534\n",
      "PARENTING : 542603.6206896552\n",
      "WEATHER : 5074486.197183099\n",
      "VIDEO_PLAYERS : 24727872.452830188\n",
      "NEWS_AND_MAGAZINES : 9549178.467741935\n",
      "MAPS_AND_NAVIGATION : 4056941.7741935486\n"
     ]
    }
   ],
   "source": [
    "#use the freq_table we created earlier and assign to google_category\n",
    "google_category = freq_table(free_google_apps, 1)\n",
    "\n",
    "#iterate over the key and values in dictionary using for loop\n",
    "for category in google_category:\n",
    "    len_category = 0\n",
    "    total = 0\n",
    "    for app in free_google_apps:\n",
    "        category_app = app[1]\n",
    "        if category_app == category:\n",
    "            installs = app[5]\n",
    "            installs = installs.replace(',', '')\n",
    "            installs = installs.replace('+', '')\n",
    "            total += float(installs)\n",
    "            len_category +=1\n",
    "            \n",
    "    avg_installs_google = total/len_category \n",
    "    print(category,\":\",avg_installs_google)"
   ]
  },
  {
   "cell_type": "markdown",
   "metadata": {},
   "source": [
    "For the google data the high count is from 'Communicaion'. Second highest is from 'Social'. For the communication data it is the same as previous because of some popular apps such as Messenger, Watsupp, Viber, Line the numer is highly skewed. Analysing the column some app shows more than one billion installs from one app.\n",
    "\n",
    "We will explore the apps that has over one billion installs."
   ]
  },
  {
   "cell_type": "code",
   "execution_count": 28,
   "metadata": {},
   "outputs": [
    {
     "name": "stdout",
     "output_type": "stream",
     "text": [
      "WhatsApp Messenger : 1,000,000,000+\n",
      "Messenger – Text and Video Chat for Free : 1,000,000,000+\n",
      "Skype - free IM & video calls : 1,000,000,000+\n",
      "Google Chrome: Fast & Secure : 1,000,000,000+\n",
      "Gmail : 1,000,000,000+\n",
      "Hangouts : 1,000,000,000+\n"
     ]
    }
   ],
   "source": [
    "for app in free_google_apps:\n",
    "    if app[1] == 'COMMUNICATION' and (app[5] == '1,000,000,000+' \n",
    "                                      or app[5] == '5000,000,000+'\n",
    "                                      or app[5] == '1000,000,000+'):\n",
    "       \n",
    "        print(app[0],\":\",app[5])"
   ]
  },
  {
   "cell_type": "code",
   "execution_count": 29,
   "metadata": {},
   "outputs": [
    {
     "name": "stdout",
     "output_type": "stream",
     "text": [
      "Facebook : 1,000,000,000+\n",
      "Google+ : 1,000,000,000+\n",
      "Instagram : 1,000,000,000+\n"
     ]
    }
   ],
   "source": [
    "for app in free_google_apps:\n",
    "    if app[1] == 'SOCIAL' and (app[5] == '1,000,000,000+' \n",
    "                                      or app[5] == '5000,000,000+'\n",
    "                                      or app[5] == '1000,000,000+'):\n",
    "       \n",
    "        print(app[0],\":\",app[5])"
   ]
  },
  {
   "cell_type": "markdown",
   "metadata": {},
   "source": [
    "We will take a look at the 'BOOKS_AND_REFERENCE' and 'NEWS_AND_MAGAZINEs' genres."
   ]
  },
  {
   "cell_type": "code",
   "execution_count": 30,
   "metadata": {},
   "outputs": [
    {
     "name": "stdout",
     "output_type": "stream",
     "text": [
      "E-Book Read - Read Book for free : 50,000+\n",
      "Download free book with green book : 100,000+\n",
      "Wikipedia : 10,000,000+\n",
      "Cool Reader : 10,000,000+\n",
      "Free Panda Radio Music : 100,000+\n",
      "Book store : 1,000,000+\n",
      "FBReader: Favorite Book Reader : 10,000,000+\n",
      "English Grammar Complete Handbook : 500,000+\n",
      "Free Books - Spirit Fanfiction and Stories : 1,000,000+\n",
      "Google Play Books : 1,000,000,000+\n",
      "AlReader -any text book reader : 5,000,000+\n",
      "Offline English Dictionary : 100,000+\n",
      "Offline: English to Tagalog Dictionary : 500,000+\n",
      "FamilySearch Tree : 1,000,000+\n",
      "Cloud of Books : 1,000,000+\n",
      "Recipes of Prophetic Medicine for free : 500,000+\n",
      "ReadEra – free ebook reader : 1,000,000+\n",
      "Anonymous caller detection : 10,000+\n",
      "Ebook Reader : 5,000,000+\n",
      "Litnet - E-books : 100,000+\n",
      "Read books online : 5,000,000+\n",
      "English to Urdu Dictionary : 500,000+\n",
      "eBoox: book reader fb2 epub zip : 1,000,000+\n",
      "English Persian Dictionary : 500,000+\n",
      "Flybook : 500,000+\n",
      "All Maths Formulas : 1,000,000+\n",
      "Ancestry : 5,000,000+\n",
      "HTC Help : 10,000,000+\n",
      "English translation from Bengali : 100,000+\n",
      "Pdf Book Download - Read Pdf Book : 100,000+\n",
      "Free Book Reader : 100,000+\n",
      "eBoox new: Reader for fb2 epub zip books : 50,000+\n",
      "Only 30 days in English, the guideline is guaranteed : 500,000+\n",
      "Moon+ Reader : 10,000,000+\n",
      "SH-02J Owner's Manual (Android 8.0) : 50,000+\n",
      "English-Myanmar Dictionary : 1,000,000+\n",
      "Golden Dictionary (EN-AR) : 1,000,000+\n",
      "All Language Translator Free : 1,000,000+\n",
      "Azpen eReader : 500,000+\n",
      "URBANO V 02 instruction manual : 100,000+\n",
      "Bible : 100,000,000+\n",
      "C Programs and Reference : 50,000+\n",
      "C Offline Tutorial : 1,000+\n",
      "C Programs Handbook : 50,000+\n",
      "Amazon Kindle : 100,000,000+\n",
      "Aab e Hayat Full Novel : 100,000+\n",
      "Aldiko Book Reader : 10,000,000+\n",
      "Google I/O 2018 : 500,000+\n",
      "R Language Reference Guide : 10,000+\n",
      "Learn R Programming Full : 5,000+\n",
      "R Programing Offline Tutorial : 1,000+\n",
      "Guide for R Programming : 5+\n",
      "Learn R Programming : 10+\n",
      "R Quick Reference Big Data : 1,000+\n",
      "V Made : 100,000+\n",
      "Wattpad 📖 Free Books : 100,000,000+\n",
      "Dictionary - WordWeb : 5,000,000+\n",
      "Guide (for X-MEN) : 100,000+\n",
      "AC Air condition Troubleshoot,Repair,Maintenance : 5,000+\n",
      "AE Bulletins : 1,000+\n",
      "Ae Allah na Dai (Rasa) : 10,000+\n",
      "50000 Free eBooks & Free AudioBooks : 5,000,000+\n",
      "Ag PhD Field Guide : 10,000+\n",
      "Ag PhD Deficiencies : 10,000+\n",
      "Ag PhD Planting Population Calculator : 1,000+\n",
      "Ag PhD Soybean Diseases : 1,000+\n",
      "Fertilizer Removal By Crop : 50,000+\n",
      "A-J Media Vault : 50+\n",
      "Al-Quran (Free) : 10,000,000+\n",
      "Al Quran (Tafsir & by Word) : 500,000+\n",
      "Al Quran Indonesia : 10,000,000+\n",
      "Al'Quran Bahasa Indonesia : 10,000,000+\n",
      "Al Quran Al karim : 1,000,000+\n",
      "Al-Muhaffiz : 50,000+\n",
      "Al Quran : EAlim - Translations & MP3 Offline : 5,000,000+\n",
      "Al-Quran 30 Juz free copies : 500,000+\n",
      "Koran Read &MP3 30 Juz Offline : 1,000,000+\n",
      "Hafizi Quran 15 lines per page : 1,000,000+\n",
      "Quran for Android : 10,000,000+\n",
      "Surah Al-Waqiah : 100,000+\n",
      "Hisnul Al Muslim - Hisn Invocations & Adhkaar : 100,000+\n",
      "Satellite AR : 1,000,000+\n",
      "Audiobooks from Audible : 100,000,000+\n",
      "Kinot & Eichah for Tisha B'Av : 10,000+\n",
      "AW Tozer Devotionals - Daily : 5,000+\n",
      "Tozer Devotional -Series 1 : 1,000+\n",
      "The Pursuit of God : 1,000+\n",
      "AY Sing : 5,000+\n",
      "Ay Hasnain k Nana Milad Naat : 10,000+\n",
      "Ay Mohabbat Teri Khatir Novel : 10,000+\n",
      "Arizona Statutes, ARS (AZ Law) : 1,000+\n",
      "Oxford A-Z of English Usage : 1,000,000+\n",
      "BD Fishpedia : 1,000+\n",
      "BD All Sim Offer : 10,000+\n",
      "Youboox - Livres, BD et magazines : 500,000+\n",
      "B&H Kids AR : 10,000+\n",
      "B y H Niños ES : 5,000+\n",
      "Dictionary.com: Find Definitions for English Words : 10,000,000+\n",
      "English Dictionary - Offline : 10,000,000+\n",
      "Bible KJV : 5,000,000+\n",
      "Borneo Bible, BM Bible : 10,000+\n",
      "MOD Black for BM : 100+\n",
      "BM Box : 1,000+\n",
      "Anime Mod for BM : 100+\n",
      "NOOK: Read eBooks & Magazines : 10,000,000+\n",
      "NOOK Audiobooks : 500,000+\n",
      "NOOK App for NOOK Devices : 500,000+\n",
      "Browsery by Barnes & Noble : 5,000+\n",
      "bp e-store : 1,000+\n",
      "Brilliant Quotes: Life, Love, Family & Motivation : 1,000,000+\n",
      "BR Ambedkar Biography & Quotes : 10,000+\n",
      "BU Alsace : 100+\n",
      "Catholic La Bu Zo Kam : 500+\n",
      "Khrifa Hla Bu (Solfa) : 10+\n",
      "Kristian Hla Bu : 10,000+\n",
      "SA HLA BU : 1,000+\n",
      "Learn SAP BW : 500+\n",
      "Learn SAP BW on HANA : 500+\n",
      "CA Laws 2018 (California Laws and Codes) : 5,000+\n",
      "Bootable Methods(USB-CD-DVD) : 10,000+\n",
      "cloudLibrary : 100,000+\n",
      "SDA Collegiate Quarterly : 500+\n",
      "Sabbath School : 100,000+\n",
      "Cypress College Library : 100+\n",
      "Stats Royale for Clash Royale : 1,000,000+\n",
      "GATE 21 years CS Papers(2011-2018 Solved) : 50+\n",
      "Learn CT Scan Of Head : 5,000+\n",
      "Easy Cv maker 2018 : 10,000+\n",
      "How to Write CV : 100,000+\n",
      "CW Nuclear : 1,000+\n",
      "CY Spray nozzle : 10+\n",
      "BibleRead En Cy Zh Yue : 5+\n",
      "CZ-Help : 5+\n",
      "Modlitební knížka CZ : 500+\n",
      "Guide for DB Xenoverse : 10,000+\n",
      "Guide for DB Xenoverse 2 : 10,000+\n",
      "Guide for IMS DB : 10+\n",
      "DC HSEMA : 5,000+\n",
      "DC Public Library : 1,000+\n",
      "Painting Lulu DC Super Friends : 1,000+\n",
      "Dictionary : 10,000,000+\n",
      "Fix Error Google Playstore : 1,000+\n",
      "D. H. Lawrence Poems FREE : 1,000+\n",
      "Bilingual Dictionary Audio App : 5,000+\n",
      "DM Screen : 10,000+\n",
      "wikiHow: how to do anything : 1,000,000+\n",
      "Dr. Doug's Tips : 1,000+\n",
      "Bible du Semeur-BDS (French) : 50,000+\n",
      "La citadelle du musulman : 50,000+\n",
      "DV 2019 Entry Guide : 10,000+\n",
      "DV 2019 - EDV Photo & Form : 50,000+\n",
      "DV 2018 Winners Guide : 1,000+\n",
      "EB Annual Meetings : 1,000+\n",
      "EC - AP & Telangana : 5,000+\n",
      "TN Patta Citta & EC : 10,000+\n",
      "AP Stamps and Registration : 10,000+\n",
      "CompactiMa EC pH Calibration : 100+\n",
      "EGW Writings 2 : 100,000+\n",
      "EGW Writings : 1,000,000+\n",
      "Bible with EGW Comments : 100,000+\n",
      "My Little Pony AR Guide : 1,000,000+\n",
      "SDA Sabbath School Quarterly : 500,000+\n",
      "Duaa Ek Ibaadat : 5,000+\n",
      "Spanish English Translator : 10,000,000+\n",
      "Dictionary - Merriam-Webster : 10,000,000+\n",
      "JW Library : 10,000,000+\n",
      "Oxford Dictionary of English : Free : 10,000,000+\n",
      "English Hindi Dictionary : 10,000,000+\n",
      "English to Hindi Dictionary : 5,000,000+\n",
      "EP Research Service : 1,000+\n",
      "Hymnes et Louanges : 100,000+\n",
      "EU Charter : 1,000+\n",
      "EU Data Protection : 1,000+\n",
      "EU IP Codes : 100+\n",
      "EW PDF : 5+\n",
      "BakaReader EX : 100,000+\n",
      "EZ Quran : 50,000+\n",
      "FA Part 1 & 2 Past Papers Solved Free – Offline : 5,000+\n",
      "La Fe de Jesus : 1,000+\n",
      "La Fe de Jesús : 500+\n",
      "Le Fe de Jesus : 500+\n",
      "Florida - Pocket Brainbook : 1,000+\n",
      "Florida Statutes (FL Code) : 1,000+\n",
      "English To Shona Dictionary : 10,000+\n",
      "Greek Bible FP (Audio) : 1,000+\n",
      "Golden Dictionary (FR-AR) : 500,000+\n",
      "Fanfic-FR : 5,000+\n",
      "Bulgarian French Dictionary Fr : 10,000+\n",
      "Chemin (fr) : 1,000+\n",
      "The SCP Foundation DB fr nn5n : 1,000+\n"
     ]
    }
   ],
   "source": [
    "#explore the data for genre 'Books and Reference'\n",
    "for app in free_google_apps:\n",
    "    if app[1] == 'BOOKS_AND_REFERENCE':\n",
    "       \n",
    "        print(app[0],\":\",app[5])"
   ]
  },
  {
   "cell_type": "code",
   "execution_count": 31,
   "metadata": {},
   "outputs": [
    {
     "name": "stdout",
     "output_type": "stream",
     "text": [
      "Google Play Books : 1,000,000,000+\n"
     ]
    }
   ],
   "source": [
    "#explore the high user count data for genre 'Books and Reference'\n",
    "for app in free_google_apps:\n",
    "    if app[1] == 'BOOKS_AND_REFERENCE'and (app[5] == '1,000,000,000+' \n",
    "                                      or app[5] == '5000,000,000+'\n",
    "                                      or app[5] == '1000,000,000+'):\n",
    "       \n",
    "        print(app[0],\":\",app[5])"
   ]
  },
  {
   "cell_type": "code",
   "execution_count": 32,
   "metadata": {},
   "outputs": [
    {
     "name": "stdout",
     "output_type": "stream",
     "text": [
      "Fox News – Breaking News, Live Video & News Alerts : 10,000,000+\n",
      "NEW - Read Newspaper, News 24h : 10,000,000+\n",
      "BaBe + - Indonesian News : 1,000,000+\n",
      "daily News : 1,000,000+\n",
      "BBC News : 10,000,000+\n",
      "Free TV Shows App:News, TV Series, Episode, Movies : 1,000,000+\n",
      "News24 : 1,000,000+\n",
      "Le Monde, the continuous news : 5,000,000+\n",
      "Wireless news : 1,000,000+\n",
      "CNN Breaking US & World News : 10,000,000+\n",
      "Gnoche entertainment news · sports news is also free : 5,000,000+\n",
      "BaBe - Read News : 10,000,000+\n",
      "Nigeria News NAIJ.com : 1,000,000+\n",
      "detikcom - Latest & Most Complete News : 10,000,000+\n",
      "Dailyhunt (Newshunt) - Latest News, Viral Videos : 50,000,000+\n",
      "BaBe Lite - Read Quota Saving News : 1,000,000+\n",
      "ARY NEWS URDU : 500,000+\n",
      "Bengali Newspaper - The first L. : 1,000,000+\n",
      "Read- Latest News, Information, Gossip and Politics : 10,000,000+\n",
      "Reddit: Social News, Trending Memes & Funny Videos : 10,000,000+\n",
      "BBC Persian | BBC Farsi News : 100,000+\n",
      "Opera News - Trending news and videos : 10,000,000+\n",
      "Topbuzz: Breaking News, Videos & Funny GIFs : 10,000,000+\n",
      "Twitter : 500,000,000+\n",
      "Pulse Nabd - World News, Urgent : 10,000,000+\n",
      "Asahi Shimbun Digital : 500,000+\n",
      "Breaking News, Local news, Attacks and Alerts Free : 500,000+\n",
      "WE : 1,000,000+\n",
      "Sky News : 1,000,000+\n",
      "Microsoft News : 1,000,000+\n",
      "Onet - news, weather, sport : 1,000,000+\n",
      "Vietnam Today - Read online newspapers, the hottest news 24h : 5,000,000+\n",
      "Apple Daily Apple News : 5,000,000+\n",
      "The Report, Fox, Breitbart - Conservative News : 50,000+\n",
      "Tencent News : 1,000,000+\n",
      "ARY NEWS : 1,000,000+\n",
      "Kurio - Read the Latest News : 1,000,000+\n",
      "Daily Mail Online : 5,000,000+\n",
      "Loop - Caribbean Local News : 1,000,000+\n",
      "AD - News, Sports, Region & Entertainment : 1,000,000+\n",
      "Podcast Addict : 5,000,000+\n",
      "Podcast Republic - Podcast Player & Radio Player : 1,000,000+\n",
      "Spreaker Podcast Radio : 500,000+\n",
      "BeyondPod Podcast Manager : 1,000,000+\n",
      "Dezeen Magazine RSS Reader : 10,000+\n",
      "issuu - Read Magazines, Catalogs, Newspapers. : 1,000,000+\n",
      "BuzzFeed: News, Tasty, Quizzes : 5,000,000+\n",
      "Fast News : 1,000,000+\n",
      "LA Times: Your California News : 100,000+\n",
      "The Washington Post Classic : 1,000,000+\n",
      "Chicago Tribune : 100,000+\n",
      "USA TODAY : 5,000,000+\n",
      "World Newspapers : 1,000,000+\n",
      "The Wall Street Journal: Business & Market News : 1,000,000+\n",
      "Financial Times : 1,000,000+\n",
      "The Guardian : 5,000,000+\n",
      "NYTimes - Latest News : 10,000,000+\n",
      "Digg : 100,000+\n",
      "News360: Personalized News : 1,000,000+\n",
      "RT News (Russia Today) : 1,000,000+\n",
      "NPR News : 1,000,000+\n",
      "Reuters News : 1,000,000+\n",
      "Bloomberg: Market & Financial News : 10,000,000+\n",
      "Haystack TV: Local & World News - Free : 100,000+\n",
      "ABC News - US & World News : 1,000,000+\n",
      "NBC News : 5,000,000+\n",
      "Sync for reddit : 500,000+\n",
      "AP Mobile - Breaking News : 1,000,000+\n",
      "HuffPost - News : 1,000,000+\n",
      "News Republic : 10,000,000+\n",
      "Newsroom: News Worth Sharing : 10,000,000+\n",
      "SmartNews: Breaking News Headlines : 10,000,000+\n",
      "Updates for Samsung - Android Update Versions : 10,000,000+\n",
      "AC - Tips & News for Android™ : 1,000,000+\n",
      "CBS News : 1,000,000+\n",
      "NPR One : 1,000,000+\n",
      "JailBase - Arrests + Mugshots : 1,000,000+\n",
      "Pocket : 10,000,000+\n",
      "AOL - News, Mail & Video : 5,000,000+\n",
      "BaconReader for Reddit : 1,000,000+\n",
      "Flipboard: News For Our Time : 500,000,000+\n",
      "E! News : 1,000,000+\n",
      "M+ : 10,000+\n",
      "AD - Nieuws, Sport, Regio & Entertainment : 1,000,000+\n",
      "AF Link : 10,000+\n",
      "Ariana News AF : 5,000+\n",
      "Rоhi.af : 1,000+\n",
      "AI Today : Artificial Intelligence News & AI 101 : 100+\n",
      "AJ+ Beta : 1,000+\n",
      "Aj. Vallbona : 10+\n",
      "Aj Di Awaaz : 500+\n",
      "AL.com : 50,000+\n",
      "Al Jazeera English : 1,000,000+\n",
      "Al Mayadeen : 500,000+\n",
      "Coast To Coast AM Insider : 100,000+\n",
      "DWWW 774 Ultimate AM Radio : 10,000+\n",
      "AP App for Android™ : 10,000+\n",
      "AS - Diario online deportivo. Fútbol, motor y más : 50+\n",
      "Australia Newspapers - AU News Apps : 1,000+\n",
      "news.com.au : 100+\n",
      "Mali 7 - Actualités au Mali : 50,000+\n",
      "AW TeamUp : 500+\n",
      "AW Reader: news & apps [Dutch] : 100,000+\n",
      "Handbreit by a.w.niemeyer : 1,000+\n",
      "News.aw : 10+\n",
      "AW - Le News di AndroidWorld : 100,000+\n",
      "Cafe.ba : 10,000+\n",
      "058.ba : 100+\n",
      "Klix.ba : 100,000+\n",
      "BD Online News : 1,000+\n",
      "BD Internet Package Activator : 100+\n",
      "BG Sports News : 1,000+\n",
      "Dete.bg : 100+\n",
      "Top Novini BG : 100+\n",
      "Stolica.bg : 50+\n",
      "N+ News Bulgaria : 50+\n",
      "BI News : 1,000+\n",
      "BK Manager : 5,000+\n",
      "RTVBN : 50,000+\n",
      "bq magazine : 50+\n",
      "Vidroid.com.br : 5,000+\n",
      "Revista BS : 100+\n",
      "Kiosko BS : 1,000+\n",
      "BT App : 1,000+\n",
      "B.T. : 100,000+\n",
      "B.Z. Live-Ticker : 10,000+\n",
      "BZ Berner Zeitung E-Paper : 1,000+\n",
      "BZ-Smart : 10,000+\n",
      "Berner Zeitung : 50,000+\n",
      "bz Basellandschaftliche News : 1,000+\n",
      "BZ Langenthaler Tagblatt E-Paper : 10+\n",
      "Badische Zeitung : 10,000+\n",
      "bz Baselland E-Paper : 5,000+\n",
      "BZ-Digital : 100+\n",
      "BZ Berner Oberländer : 1,000+\n",
      "bz Basel E-Paper : 5,000+\n",
      "bz Basel News : 1,000+\n",
      "PRIMATURE.CD : 100+\n",
      "INTERKINOIS.CD : 5+\n",
      "STADE.CD : 5+\n",
      "OBJECTIFINFOS.CD : 50+\n",
      "CE HPJM 69 : 50+\n",
      "CG Creative Sets: 2D/3D Artist : 10,000+\n",
      "CG Daily News : 10,000+\n",
      "CG Freelancer : 1,000+\n",
      "CG Vidhansabha Chunav 2018 : 100+\n",
      "Naidunia: MP News & CG News : 100,000+\n",
      "Bhuiyan Land Records Chhattisgarh (CG) : 5,000+\n",
      "20 minutes (CH) : 1,000,000+\n",
      "CH info : 5,000+\n",
      "20 Minuten (CH) : 1,000,000+\n",
      "swissinfo.ch : 50,000+\n",
      "Startupticker.ch News, Events : 100+\n",
      "CI On The Go : 100+\n",
      "Courier Journal : 10,000+\n",
      "Feeder.co : 5,000+\n",
      "CQ : 1,000+\n",
      "Roll Call News : 5,000+\n",
      "CT Prepares : 1,000+\n",
      "CW TV : 50,000+\n",
      "News 8 San Diego : 50,000+\n",
      "Cy-Ranch : 500+\n",
      "NOMISMA.com.cy by FMW : 100+\n",
      "Capitalnews.com.cy : 10+\n",
      "StudentLife.com.cy : 100+\n",
      "Novinky.cz : 100,000+\n",
      "DB Welt - Die Zeitung der DB : 10,000+\n",
      "FOX 5 DC : 100,000+\n",
      "McClatchy DC Bureau : 5,000+\n",
      "México City D.F News : 100+\n",
      "DG TV : 100+\n",
      "DH News : 10,000+\n",
      "DM Magazine : 10+\n",
      "DN : 10,000+\n",
      "DN eAvis : 10,000+\n",
      "DN Sync : 1,000+\n",
      "DN Reader : 100+\n",
      "e-DN - den digitala tidningen från Dagens Nyheter : 50,000+\n",
      "Dagens Nyheter : 100,000+\n",
      "DN.VR : 5,000+\n",
      "DN - Diário de Notícias : 100,000+\n",
      "DN Radio FM : 10+\n",
      "Sverige Tidningar : 50,000+\n",
      "Svenska Dagbladet : 100,000+\n",
      "Sweden Newspapers : 0+\n",
      "dt.se : 10,000+\n",
      "DW - Breaking World News : 1,000,000+\n",
      "DW Amharic by AudioNow Digital : 10,000+\n",
      "News: DW Español : 1,000+\n",
      "DW : 10,000+\n",
      "DW Arabic By dw-arab.com : 50,000+\n",
      "DW Espanol : 100+\n",
      "News :DW Bangali : 10+\n",
      "News: DW Hausa : 1,000+\n",
      "News: RFI Hausa : 1,000+\n",
      "Hausa Radio : 100,000+\n",
      "Swahili Radio : 10,000+\n",
      "dz NEWS Algerie : 100,000+\n",
      "JNews DZ - Algerian Newspapers : 10,000+\n",
      "dz press : 1,000+\n",
      "Ei Samay - Bengali News Paper : 1,000,000+\n",
      "Aaj Bangla: ei samay er khobor : 1,000+\n",
      "Kolkata News:Anandbazar Patrika,ei samay&AllRating : 100+\n",
      "Ei Somoy & Dainik Sangbad & Statesman (PDF) : 100+\n",
      "EJ.by : 500+\n",
      "EJ Insight : 1,000+\n",
      "El Nuevo Día : 500,000+\n",
      "EL NORTE : 100,000+\n",
      "El Nueve : 50,000+\n",
      "FRANCE 24 : 5,000,000+\n",
      "NewsDog - Latest News, Breaking News, Local News : 10,000,000+\n",
      "Economic Times : Market News : 5,000,000+\n",
      "ET Telecom from Economic Times : 10,000+\n",
      "Economic Times : Market News Go Edition : 5,000+\n",
      "Google News : 1,000,000,000+\n",
      "News by The Times of India Newspaper - Latest News : 10,000,000+\n",
      "Doorstep EU : 1,000+\n",
      "Lazionews.eu : 1,000+\n",
      "EU Life Explorer : 50+\n",
      "EU-Schwerbehinderung : 100+\n",
      "ew-Magazin : 100+\n",
      "News 5 Cleveland : 100,000+\n",
      "The List : 10,000+\n",
      "ABC15 Arizona : 100,000+\n",
      "NATIVE ENTERTAINMENT MAGAZINE - ISSUE # 1 : 10+\n",
      "KMTV 3 News Now : 10,000+\n",
      "TMJ4.com - WTMJ-TV Milwaukee : 50,000+\n",
      "WPTV 5 West Palm Beach : 100,000+\n",
      "WKBW 7 Eyewitness News : 50,000+\n",
      "Barcelona FC Noticias Live : 500+\n",
      "Noticias FC Barcelona : 100+\n",
      "Latest Barcelona News 24h : 10,000+\n",
      "FD e-paper : 10,000+\n",
      "Santa Fe New Mexican e-Edition : 1,000+\n",
      "Results for FL Lottery : 10,000+\n",
      "Florida Lottery Results : 100,000+\n",
      "News-Journal-Daytona Beach, FL : 5,000+\n",
      "Ocala Star Banner, FL : 5,000+\n",
      "Lotto Results - Mega Millions Powerball Lottery US : 1,000,000+\n",
      "WFLA News Channel 8 - Tampa FL : 10,000+\n",
      "The Ledger - Lakeland, Florida : 5,000+\n",
      "Florida Today : 10,000+\n",
      "WSVN - 7 News Miami : 100,000+\n",
      "Podcast App: Free & Offline Podcasts by Player FM : 1,000,000+\n",
      "Fresh News : 100,000+\n",
      "The FP Shield : 10+\n",
      "Miss FQ : 10+\n",
      "News Minecraft.fr : 100,000+\n"
     ]
    }
   ],
   "source": [
    "#explore the data for genre 'News and magazines'\n",
    "for app in free_google_apps:\n",
    "    if app[1] == 'NEWS_AND_MAGAZINES':\n",
    "       \n",
    "        print(app[0],\":\",app[5])"
   ]
  },
  {
   "cell_type": "code",
   "execution_count": 33,
   "metadata": {},
   "outputs": [
    {
     "name": "stdout",
     "output_type": "stream",
     "text": [
      "Google News : 1,000,000,000+\n"
     ]
    }
   ],
   "source": [
    "#explore the high user count data for genre 'News and Magazines'\n",
    "for app in free_google_apps:\n",
    "    if app[1] == 'NEWS_AND_MAGAZINES'and (app[5] == '1,000,000,000+' \n",
    "                                      or app[5] == '5000,000,000+'\n",
    "                                      or app[5] == '1000,000,000+'):\n",
    "       \n",
    "        print(app[0],\":\",app[5])"
   ]
  },
  {
   "cell_type": "code",
   "execution_count": 34,
   "metadata": {},
   "outputs": [
    {
     "name": "stdout",
     "output_type": "stream",
     "text": [
      "trivago: Hotels & Travel : 50,000,000+\n",
      "Hopper - Watch & Book Flights : 5,000,000+\n",
      "TripIt: Travel Organizer : 1,000,000+\n",
      "Trip by Skyscanner - City & Travel Guide : 500,000+\n",
      "CityMaps2Go Plan Trips Travel Guide Offline Maps : 1,000,000+\n",
      "KAYAK Flights, Hotels & Cars : 10,000,000+\n",
      "World Travel Guide by Triposo : 500,000+\n",
      "Booking.com Travel Deals : 100,000,000+\n",
      "Hostelworld: Hostels & Cheap Hotels Travel App : 1,000,000+\n",
      "Google Trips - Travel Planner : 5,000,000+\n",
      "GPS Map Free : 5,000,000+\n",
      "GasBuddy: Find Cheap Gas : 10,000,000+\n",
      "Southwest Airlines : 5,000,000+\n",
      "AT&T Navigator: Maps, Traffic : 10,000,000+\n",
      "VZ Navigator : 50,000,000+\n",
      "KakaoMap - Map / Navigation : 10,000,000+\n",
      "AirAsia : 10,000,000+\n",
      "Expedia Hotels, Flights & Car Rental Travel Deals : 10,000,000+\n",
      "Goibibo - Flight Hotel Bus Car IRCTC Booking App : 10,000,000+\n",
      "Allegiant : 1,000,000+\n",
      "Amtrak : 1,000,000+\n",
      "JAL (Domestic and international flights) : 1,000,000+\n",
      "Flight & Hotel Booking App - ixigo : 5,000,000+\n",
      "VZ Navigator for Tablets : 500,000+\n",
      "TripAdvisor Hotels Flights Restaurants Attractions : 100,000,000+\n",
      "HSL - Tickets, route planner and information : 100,000+\n",
      "Wisepilot for XPERIA™ : 5,000,000+\n",
      "VZ Navigator for Galaxy S4 : 5,000,000+\n",
      "MAIN : 1,000,000+\n",
      "Yoriza Pension - travel, lodging, pension, camping, caravan, pool villas accommodation discount : 1,000,000+\n",
      "Foursquare Swarm: Check In : 10,000,000+\n",
      "PagesJaunes - local search : 10,000,000+\n",
      "Flightradar24 Flight Tracker : 10,000,000+\n",
      "Yatra - Flights, Hotels, Bus, Trains & Cabs : 10,000,000+\n",
      "SNCF : 5,000,000+\n",
      "Fly Delta : 5,000,000+\n",
      "Skyscanner : 10,000,000+\n",
      "Despegar.com Hotels and Flights : 10,000,000+\n",
      "Navigation Plus : 1,000,000+\n",
      "2GIS: directory & navigator : 50,000,000+\n",
      "Poynt : 5,000,000+\n",
      "Gaode Map : 1,000,000+\n",
      "Priceline Hotel Deals, Rental Cars & Flights : 5,000,000+\n",
      "TravelPirates : 1,000,000+\n",
      "Free Radar Detector : 1,000,000+\n",
      "American Airlines : 5,000,000+\n",
      "Where to travel - ticket. hotel. train ticket. car ticket. travel. tickets : 1,000,000+\n",
      "United Airlines : 5,000,000+\n",
      "NTES : 10,000,000+\n",
      "Where is my Train : Indian Railway & PNR Status : 10,000,000+\n",
      "MakeMyTrip-Flight Hotel Bus Cab IRCTC Rail Booking : 10,000,000+\n",
      "Restaurant Finder : 1,000,000+\n",
      "Zagat : 100,000+\n",
      "Gormey: Find Best Restaurants : 1,000+\n",
      "Find Dining Restaurant Finder : 100,000+\n",
      "Urbanspoon Restaurant Reviews : 5,000,000+\n",
      "Yelp: Food, Shopping, Services Nearby : 10,000,000+\n",
      "Qatar Airways : 1,000,000+\n",
      "Hipmunk Hotels & Flights : 1,000,000+\n",
      "Skiplagged — Exclusive Flights & Hotels : 1,000,000+\n",
      "CWT To Go : 100,000+\n",
      "British Airways : 1,000,000+\n",
      "Cheap Flights & Hotels momondo : 5,000,000+\n",
      "CheapTickets – Hotels, Flights & Travel Deals : 1,000,000+\n",
      "JetBlue : 1,000,000+\n",
      "Flights : 1,000,000+\n",
      "Cheapflights – Flight Search : 5,000,000+\n",
      "KLM - Royal Dutch Airlines : 1,000,000+\n",
      "Orbitz - Hotels, Flights & Package Deals : 1,000,000+\n",
      "Lufthansa : 1,000,000+\n",
      "easyJet: Travel App : 10,000,000+\n",
      "IndiGo : 5,000,000+\n",
      "LateRooms: Find Hotel Deals : 1,000,000+\n",
      "Choice Hotels : 1,000,000+\n",
      "Couchsurfing Travel App : 1,000,000+\n",
      "Hotwire Hotel & Car Rental App : 1,000,000+\n",
      "HOTEL DEALS : 100,000+\n",
      "HomeAway Vacation Rentals : 5,000,000+\n",
      "IHG®: Hotel Deals & Rewards : 1,000,000+\n",
      "SPG: Starwood Hotels & Resorts : 1,000,000+\n",
      "Hotels.com: Book Hotel Rooms & Find Vacation Deals : 10,000,000+\n",
      "HotelTonight: Book amazing deals at great hotels : 5,000,000+\n",
      "Airbnb : 10,000,000+\n",
      "Hotels Combined - Cheap deals : 5,000,000+\n",
      "Agoda – Hotel Booking Deals : 10,000,000+\n",
      "Turo - Better Than Car Rental : 1,000,000+\n",
      "Ascape VR: 360° Virtual Travel : 100,000+\n",
      "Cheap hotel deals and discounts — Hotellook : 1,000,000+\n",
      "Maps - Navigate & Explore : 1,000,000,000+\n",
      "GPS Status & Toolbox : 10,000,000+\n",
      "Airport + Flight Tracker Radar : 1,000,000+\n",
      "Scout GPS Navigation & Meet Up : 5,000,000+\n",
      "Street Panorama View : 1,000,000+\n",
      "Geo Tracker - GPS tracker : 1,000,000+\n",
      "DreamTrips : 500,000+\n",
      "Navmii GPS USA (Navfree) : 500,000+\n",
      "Sygic Truck GPS Navigation : 1,000,000+\n",
      "Google Street View : 1,000,000,000+\n",
      "Air Transat CinePlus B : 50,000+\n",
      "U-Haul : 100,000+\n",
      "Octo U: Your driving companion : 50,000+\n",
      "Flexiroam X : 100,000+\n",
      "Connect.ae - Local Search UAE : 10,000+\n",
      "Toppen af Danmark : 5,000+\n",
      "Alabama Road Trips : 10,000+\n",
      "Official AL Fishing & Hunting : 50,000+\n",
      "Where Am I At? : 10,000+\n",
      "Where Am I? GPS Loc : 10,000+\n",
      "Live Camera Viewer ★ World Webcam & IP Cam Streams : 10,000,000+\n",
      "Portal AR - Step Into Scotland : 5,000+\n",
      "Casino AZ/Talking Stick Resort : 10,000+\n",
      "Explore Sedona & Northern AZ : 10,000+\n",
      "Arizona Trail : 5,000+\n",
      "Phoenix and Arizona Cameras : 10,000+\n",
      "Experience BA : 100+\n",
      "BA Status : 100+\n",
      "Avios for Android : 100,000+\n",
      "Explore British Columbia - BC Travel Guide : 500+\n",
      "BC Highways - Road Conditions : 10,000+\n",
      "Victoria, BC | Tour City : 1,000+\n",
      "British Columbia Tourist Places (Guide) : 100+\n",
      "BG Metro - Red voznje : 1,000+\n",
      "BG Guide : 100+\n",
      "trip.bg : 1,000+\n",
      "Belo Horizonte Map offline : 1,000+\n",
      "BH Mission Playbook : 100+\n",
      "BH Rocking : 100+\n",
      "Digital Tourist BH Itinerary : 500+\n",
      "BL info : 5,000+\n",
      "BPme - Mobile Fuel Payment & BP Driver Rewards app : 10,000+\n",
      "Wherever BQ : 50+\n",
      "BU Dental GoGoldman : 100+\n",
      "BU Questrom Launch : 100+\n",
      "BU School of Public Health : 10+\n",
      "BV Aventure : 100+\n",
      "BV Rando : 100+\n",
      "Best Western To Go : 100,000+\n",
      "BW Map mobile : 10,000+\n",
      "Best Western e-Concierge Hotel : 10,000+\n",
      "24/7 BZ Reis : 100,000+\n",
      "BZ Vesper-App : 1,000+\n",
      "Restaurantführer Südbaden : 1,000+\n",
      "BZ Straußenführer : 10,000+\n",
      "California Cameras - Traffic : 10,000+\n",
      "Kiosque CD : 5+\n",
      "US 115th CD : 5+\n",
      "CE AH VLJ : 1,000+\n",
      "search.ch : 500,000+\n",
      "CJ's Coffee Cafe : 500+\n",
      "Camping and Co - Camping in Europe : 1,000+\n",
      "CQ Hotels : 10,000+\n",
      "SHUTTLLS CQ - Connect Ride Go : 5+\n",
      "Cathay Pacific : 1,000,000+\n",
      "Map of Cyprus offline : 10,000+\n",
      "DB BAHN : 500+\n",
      "DB FahrtProfi : 1,000+\n",
      "DC Metro Transit - Free : 500,000+\n",
      "DC Trails-Hop On Hop Off Tours : 5,000+\n",
      "Can I pack that? - DG App : 10,000+\n",
      "DG Cars : 10,000+\n",
      "DK Eyewitness Audio Walks : 1,000+\n",
      "DM Transfers Dalaman Transfers : 10,000+\n",
      "US DV Lottery 2020 Apply : 10,000+\n",
      "US DV Lottery 2019 : 1,000+\n",
      "DW Maps : 10,000+\n",
      "junainfo.dy.fi : 100+\n",
      "Siyaha Dz : 10,000+\n",
      "IRIS : Customer Service - DZ Algeria : 1,000+\n",
      "DZ Fly Algérie Horaire Vols : 10,000+\n",
      "EA Plus : 1,000+\n",
      "EB Events : 10,000+\n",
      "Audiowalk EB : 10+\n",
      "EF Go Ahead Tour Companion : 1,000+\n",
      "EF Summits : 100+\n",
      "EG SIM CARD (EGSIMCARD) : 10,000+\n",
      "The Emirates App : 1,000,000+\n",
      "Ek-yatri: Travel where you Belong : 1+\n",
      "EL AL Flights : 100,000+\n",
      "DreamStream By EL AL : 100,000+\n",
      "El Dorado App : 10,000+\n",
      "EO Hotels : 100+\n",
      "Fill 'er Up : 5,000+\n",
      "MAPS.ME – Offline Map and Travel Navigation : 50,000,000+\n",
      "Google Earth : 100,000,000+\n",
      "Offline Maps & Navigation : 5,000,000+\n",
      "myLPG.eu : 50,000+\n",
      "Passenger rights : 50,000+\n",
      "taxi.eu : 100,000+\n",
      "To-U - free EV public charging : 1,000+\n",
      "Bird - Enjoy The Ride : 500,000+\n",
      "eCooltra: scooter sharing. Share electric scooters : 100,000+\n",
      "XE Currency : 10,000,000+\n",
      "Etihad Airways : 500,000+\n",
      "EZ TAG Express : 10,000+\n",
      "Santa Fe Map and Walks : 1,000+\n",
      "Santa Fe VIP Tours : 100+\n",
      "Toyota Cruisers & Trucks Mag : 500+\n",
      "FL State Parks Guide : 100,000+\n",
      "Florida Travel Guide : 1,000+\n",
      "The Florida Trail Guide : 5,000+\n",
      "Florida Keys : 10,000+\n",
      "Florida Travel Guide - TOURIAS : 10,000+\n",
      "Florida map : 5,000+\n",
      "Florida Beach Wallpapers HD : 100+\n",
      "ORLANDO FLORIDA MAP : 1,000+\n",
      "Florida Offline Road Map : 10,000+\n",
      "Florida Map offline : 1,000+\n"
     ]
    }
   ],
   "source": [
    "#explore the data for genre 'Travel and local'\n",
    "for app in free_google_apps:\n",
    "    if app[1] == 'TRAVEL_AND_LOCAL':\n",
    "        print(app[0],\":\",app[5])"
   ]
  },
  {
   "cell_type": "code",
   "execution_count": 35,
   "metadata": {},
   "outputs": [
    {
     "name": "stdout",
     "output_type": "stream",
     "text": [
      "Maps - Navigate & Explore : 1,000,000,000+\n",
      "Google Street View : 1,000,000,000+\n"
     ]
    }
   ],
   "source": [
    "#explore the high user count data for genre 'Travel and local'\n",
    "for app in free_google_apps:\n",
    "    if app[1] == 'TRAVEL_AND_LOCAL'and (app[5] == '1,000,000,000+' \n",
    "                                      or app[5] == '5000,000,000+'\n",
    "                                      or app[5] == '1000,000,000+'):\n",
    "       \n",
    "        print(app[0],\":\",app[5])"
   ]
  },
  {
   "cell_type": "markdown",
   "metadata": {},
   "source": [
    "* For the Anroid data high user installs are from the Communication, Social, video_players, Game and Beauty. This is because of some of the very popular apps such as google maps, Facebook, Instagram with user installs over a billion. Because of this the number of installs per genre for these areas seems to be highly skewed.\n",
    "* Other genres with high number of installs are apps such as Productivity, News and Magazines, Books and References, Travel and Local. For these areas the user installs number are not skewed. Therefore there is still potential to create apps that will attract users."
   ]
  },
  {
   "cell_type": "markdown",
   "metadata": {},
   "source": [
    "### Conclusion\n",
    "\n",
    "From the analysis from the two data sets I believe there is potential to create popular apps in genres such as 'Books and references' and 'Travel and Local'. Books and references' has a high count of downloads in both data sets. 'Travel and Local' is also comparetively popular in both data set. Since people are waiting to travel after the panademic, it is wiser to create apps in travel area that will be populer in future.\n",
    "\n",
    "Both these areas number count is not skewed beacuse of few popular apps. Therefore their is potential to create apps that will be popular in the market and to increase the company revenue. "
   ]
  },
  {
   "cell_type": "code",
   "execution_count": null,
   "metadata": {},
   "outputs": [],
   "source": []
  }
 ],
 "metadata": {
  "kernelspec": {
   "display_name": "Python 3",
   "language": "python",
   "name": "python3"
  },
  "language_info": {
   "codemirror_mode": {
    "name": "ipython",
    "version": 3
   },
   "file_extension": ".py",
   "mimetype": "text/x-python",
   "name": "python",
   "nbconvert_exporter": "python",
   "pygments_lexer": "ipython3",
   "version": "3.8.2"
  }
 },
 "nbformat": 4,
 "nbformat_minor": 2
}
